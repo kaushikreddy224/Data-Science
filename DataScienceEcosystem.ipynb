{
 "cells": [
  {
   "cell_type": "markdown",
   "id": "acfe89b3-fe7a-409a-a836-18a2299cc77c",
   "metadata": {},
   "source": [
    "# Data Science Tools and Ecosystem"
   ]
  },
  {
   "cell_type": "markdown",
   "id": "01e4b222-fa80-4548-a5c9-512afbccc03d",
   "metadata": {},
   "source": [
    "In this notebook, Data Science Tools and Ecosystem are summarized."
   ]
  },
  {
   "cell_type": "markdown",
   "id": "37ffa347-479f-4416-b091-913f61053666",
   "metadata": {},
   "source": [
    "Some of the popular languages that Data Scientists use are:\n",
    "1. Python\n",
    "2. R\n",
    "3. SQL"
   ]
  },
  {
   "cell_type": "markdown",
   "id": "5d34c3eb-546d-4eff-b9b0-9ab1d70b45e6",
   "metadata": {},
   "source": [
    "Some of the commonly used libraries used by Data Scientists include:\n",
    "1. Pandas\n",
    "2. NumPy\n",
    "3. Matplotlib"
   ]
  },
  {
   "cell_type": "markdown",
   "id": "5e0e506a-ad19-4d68-bf5f-5dca75c73d09",
   "metadata": {},
   "source": [
    "|Data Science Tools|\n",
    "|-----|\n",
    "|SAS|\n",
    "|TensorFlow|\n",
    "|Apache Hadoop|"
   ]
  },
  {
   "cell_type": "markdown",
   "id": "6f4f1f2a-b2be-4024-9f79-9c87ef4f5d8d",
   "metadata": {},
   "source": [
    "### Below are a few examples of evaluating arithmetic expressions in Python."
   ]
  },
  {
   "cell_type": "code",
   "execution_count": 5,
   "id": "aeec571e-e425-48ea-9570-c15c0c4c06c4",
   "metadata": {},
   "outputs": [
    {
     "data": {
      "text/plain": [
       "17"
      ]
     },
     "execution_count": 5,
     "metadata": {},
     "output_type": "execute_result"
    }
   ],
   "source": [
    "#This a simple arithmetic expression to mutiply then add integers.\n",
    "(3*4)+5"
   ]
  },
  {
   "cell_type": "code",
   "execution_count": 7,
   "id": "b1e214b6-92c8-45e2-9752-d1ca2fe0a5cd",
   "metadata": {},
   "outputs": [
    {
     "data": {
      "text/plain": [
       "3.3333333333333335"
      ]
     },
     "execution_count": 7,
     "metadata": {},
     "output_type": "execute_result"
    }
   ],
   "source": [
    "#This will convert 200 minutes to hours by diving by 60.\n",
    "200/60"
   ]
  },
  {
   "cell_type": "markdown",
   "id": "f2e77391-4a56-4601-913f-5cb5d370f647",
   "metadata": {},
   "source": [
    "__Objective__\n",
    "* Understanding of Data Science Tools.\n",
    "* Popular libraries of Data Science.\n",
    "* Popular languages for Data Science."
   ]
  },
  {
   "cell_type": "markdown",
   "id": "d5f2547e-2286-4792-a849-0a0c3de88949",
   "metadata": {},
   "source": [
    "## Author\n",
    "Kaushik Reddy"
   ]
  },
  {
   "cell_type": "code",
   "execution_count": null,
   "id": "1be52afd-b7e8-41a1-b4a9-a7dd7d29b0d1",
   "metadata": {},
   "outputs": [],
   "source": []
  }
 ],
 "metadata": {
  "kernelspec": {
   "display_name": "Python 3 (ipykernel)",
   "language": "python",
   "name": "python3"
  },
  "language_info": {
   "codemirror_mode": {
    "name": "ipython",
    "version": 3
   },
   "file_extension": ".py",
   "mimetype": "text/x-python",
   "name": "python",
   "nbconvert_exporter": "python",
   "pygments_lexer": "ipython3",
   "version": "3.12.9"
  }
 },
 "nbformat": 4,
 "nbformat_minor": 5
}
